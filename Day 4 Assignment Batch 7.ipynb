{
 "cells": [
  {
   "cell_type": "markdown",
   "metadata": {},
   "source": [
    "# print the first amstrong nubmer in the range of 1042000 to702648265 using while loop"
   ]
  },
  {
   "cell_type": "code",
   "execution_count": 5,
   "metadata": {},
   "outputs": [
    {
     "name": "stdout",
     "output_type": "stream",
     "text": [
      "125\n",
      "153\n",
      "216\n",
      "370\n",
      "371\n",
      "407\n",
      "729\n"
     ]
    }
   ],
   "source": [
    "for num in range(104,7026):\n",
    "    temp=num\n",
    "    sum=0\n",
    "    while temp>0:\n",
    "        digit=temp%10\n",
    "        sum=sum+digit**3\n",
    "        temp=temp//10\n",
    "        if sum == num:\n",
    "            print (num)"
   ]
  }
 ],
 "metadata": {
  "kernelspec": {
   "display_name": "Python 3",
   "language": "python",
   "name": "python3"
  },
  "language_info": {
   "codemirror_mode": {
    "name": "ipython",
    "version": 3
   },
   "file_extension": ".py",
   "mimetype": "text/x-python",
   "name": "python",
   "nbconvert_exporter": "python",
   "pygments_lexer": "ipython3",
   "version": "3.8.3"
  }
 },
 "nbformat": 4,
 "nbformat_minor": 4
}
